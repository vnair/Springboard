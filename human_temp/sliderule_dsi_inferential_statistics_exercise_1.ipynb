{
 "cells": [
  {
   "cell_type": "markdown",
   "metadata": {},
   "source": [
    "# What is the True Normal Human Body Temperature? \n",
    "\n",
    "#### Background\n",
    "\n",
    "The mean normal body temperature was held to be 37$^{\\circ}$C or 98.6$^{\\circ}$F for more than 120 years since it was first conceptualized and reported by Carl Wunderlich in a famous 1868 book. But, is this value statistically correct?"
   ]
  },
  {
   "cell_type": "markdown",
   "metadata": {},
   "source": [
    "<div class=\"span5 alert alert-info\">\n",
    "<h3>Exercises</h3>\n",
    "\n",
    "<p>In this exercise, you will analyze a dataset of human body temperatures and employ the concepts of hypothesis testing, confidence intervals, and statistical significance.</p>\n",
    "\n",
    "<p>Answer the following questions <b>in this notebook below and submit to your Github account</b>.</p> \n",
    "\n",
    "<ol>\n",
    "<li>  Is the distribution of body temperatures normal? \n",
    "    <ul>\n",
    "    <li> Although this is not a requirement for CLT to hold (read CLT carefully), it gives us some peace of mind that the population may also be normally distributed if we assume that this sample is representative of the population.\n",
    "    </ul>\n",
    "<li>  Is the sample size large? Are the observations independent?\n",
    "    <ul>\n",
    "    <li> Remember that this is a condition for the CLT, and hence the statistical tests we are using, to apply.\n",
    "    </ul>\n",
    "<li>  Is the true population mean really 98.6 degrees F?\n",
    "    <ul>\n",
    "    <li> Would you use a one-sample or two-sample test? Why?\n",
    "    <li> In this situation, is it appropriate to use the $t$ or $z$ statistic? \n",
    "    <li> Now try using the other test. How is the result be different? Why?\n",
    "    </ul>\n",
    "<li>  At what temperature should we consider someone's temperature to be \"abnormal\"?\n",
    "    <ul>\n",
    "    <li> Start by computing the margin of error and confidence interval.\n",
    "    </ul>\n",
    "<li>  Is there a significant difference between males and females in normal temperature?\n",
    "    <ul>\n",
    "    <li> What test did you use and why?\n",
    "    <li> Write a story with your conclusion in the context of the original problem.\n",
    "    </ul>\n",
    "</ol>\n",
    "\n",
    "You can include written notes in notebook cells using Markdown: \n",
    "   - In the control panel at the top, choose Cell > Cell Type > Markdown\n",
    "   - Markdown syntax: http://nestacms.com/docs/creating-content/markdown-cheat-sheet\n",
    "\n",
    "#### Resources\n",
    "\n",
    "+ Information and data sources: http://www.amstat.org/publications/jse/datasets/normtemp.txt, http://www.amstat.org/publications/jse/jse_data_archive.htm\n",
    "+ Markdown syntax: http://nestacms.com/docs/creating-content/markdown-cheat-sheet\n",
    "\n",
    "****\n",
    "</div>"
   ]
  },
  {
   "cell_type": "code",
   "execution_count": 2,
   "metadata": {
    "collapsed": true
   },
   "outputs": [],
   "source": [
    "import pandas as pd\n",
    "\n",
    "df = pd.read_csv('data/human_body_temperature.csv')"
   ]
  },
  {
   "cell_type": "markdown",
   "metadata": {},
   "source": [
    "<p>What is in the data?</p>"
   ]
  },
  {
   "cell_type": "code",
   "execution_count": 9,
   "metadata": {
    "collapsed": false
   },
   "outputs": [
    {
     "data": {
      "text/html": [
       "<div>\n",
       "<table border=\"1\" class=\"dataframe\">\n",
       "  <thead>\n",
       "    <tr style=\"text-align: right;\">\n",
       "      <th></th>\n",
       "      <th>temperature</th>\n",
       "      <th>gender</th>\n",
       "      <th>heart_rate</th>\n",
       "    </tr>\n",
       "  </thead>\n",
       "  <tbody>\n",
       "    <tr>\n",
       "      <th>0</th>\n",
       "      <td>99.3</td>\n",
       "      <td>F</td>\n",
       "      <td>68</td>\n",
       "    </tr>\n",
       "    <tr>\n",
       "      <th>1</th>\n",
       "      <td>98.4</td>\n",
       "      <td>F</td>\n",
       "      <td>81</td>\n",
       "    </tr>\n",
       "    <tr>\n",
       "      <th>2</th>\n",
       "      <td>97.8</td>\n",
       "      <td>M</td>\n",
       "      <td>73</td>\n",
       "    </tr>\n",
       "    <tr>\n",
       "      <th>3</th>\n",
       "      <td>99.2</td>\n",
       "      <td>F</td>\n",
       "      <td>66</td>\n",
       "    </tr>\n",
       "    <tr>\n",
       "      <th>4</th>\n",
       "      <td>98.0</td>\n",
       "      <td>F</td>\n",
       "      <td>73</td>\n",
       "    </tr>\n",
       "  </tbody>\n",
       "</table>\n",
       "</div>"
      ],
      "text/plain": [
       "   temperature gender  heart_rate\n",
       "0         99.3      F          68\n",
       "1         98.4      F          81\n",
       "2         97.8      M          73\n",
       "3         99.2      F          66\n",
       "4         98.0      F          73"
      ]
     },
     "execution_count": 9,
     "metadata": {},
     "output_type": "execute_result"
    }
   ],
   "source": [
    "df.head()"
   ]
  },
  {
   "cell_type": "code",
   "execution_count": 19,
   "metadata": {
    "collapsed": false
   },
   "outputs": [
    {
     "name": "stdout",
     "output_type": "stream",
     "text": [
      "Populating the interactive namespace from numpy and matplotlib\n"
     ]
    },
    {
     "data": {
      "image/png": "[encoded data removed]",
      "text/plain": [
       "<matplotlib.figure.Figure at 0x10dc1a9d0>"
      ]
     },
     "metadata": {},
     "output_type": "display_data"
    }
   ],
   "source": [
    "%pylab inline\n",
    "import matplotlib.pyplot as plt\n",
    "import seaborn as sns\n",
    "import numpy as np\n",
    "sns.set()\n",
    "\n",
    "_= plt.hist(x='temperature',bins=10,normed='True',data=df)\n",
    "_= plt.xlabel('Temperature')\n",
    "_= plt.ylabel('PDF')\n",
    "plt.show()"
   ]
  },
  {
   "cell_type": "code",
   "execution_count": 20,
   "metadata": {
    "collapsed": false
   },
   "outputs": [
    {
     "data": {
      "image/png": "[encoded data removed]",
      "text/plain": [
       "<matplotlib.figure.Figure at 0x10e24a2d0>"
      ]
     },
     "metadata": {},
     "output_type": "display_data"
    }
   ],
   "source": [
    "def ecdf(data):\n",
    "    \"\"\"Compute ECDF for a one-dimensional array of measurements.\"\"\"\n",
    "\n",
    "    # Number of data points: n\n",
    "    n = len(data)\n",
    "\n",
    "    # x-data for the ECDF: x\n",
    "    x = np.sort(data)\n",
    "\n",
    "    # y-data for the ECDF: y\n",
    "    y = np.arange(1, n+1) / (1.0*n)\n",
    "\n",
    "    return x, y\n",
    "\n",
    "temp = df['temperature']\n",
    "\n",
    "mu = np.mean(temp)\n",
    "sigma = np.std(temp)\n",
    "\n",
    "samples = np.random.normal(mu,sigma,10000)\n",
    "x_theor,y_theor = ecdf(samples)\n",
    "x,y = ecdf(temp)\n",
    "\n",
    "\n",
    "_= plt.plot(x_theor,y_theor)\n",
    "_= plt.plot(x, y, marker='.', linestyle='none',color='purple')\n",
    "_= plt.xlabel('Temperature')\n",
    "_= plt.ylabel('ECDF')\n",
    "plt.show()\n",
    "\n",
    "\n"
   ]
  },
  {
   "cell_type": "markdown",
   "metadata": {},
   "source": [
    "Based on the ECDF the data does look to be normally distributed\n",
    "\n",
    "To solve for this mathematically, the Shapiro- Wilk test will be used.<a href=https://www.researchgate.net/publication/267205556_Power_Comparisons_of_Shapiro-Wilk_Kolmogorov-Smirnov_Lilliefors_and_Anderson-Darling_Tests> This test </a> has the best statistical power for testing normality\n"
   ]
  },
  {
   "cell_type": "code",
   "execution_count": 52,
   "metadata": {
    "collapsed": false
   },
   "outputs": [
    {
     "name": "stdout",
     "output_type": "stream",
     "text": [
      "Null Hypothesis Accepted: The sample for temperature is normally distributed\n"
     ]
    }
   ],
   "source": [
    "import scipy.stats as st\n",
    "h_o = \"The sample for temperature is normally distributed\"\n",
    "h_a = \"The sample for temperature is NOT normally distributed\"\n",
    "#two tailed t test\n",
    "shapiro = st.shapiro(temp)\n",
    "\n",
    "if shapiro[1] < .05:\n",
    "    print \"Null Hypothesis Rejected: \"+h_a\n",
    "else:\n",
    "    print \"Null Hypothesis Accepted: \"+h_o"
   ]
  },
  {
   "cell_type": "markdown",
   "metadata": {},
   "source": [
    "## Test for Independence"
   ]
  },
  {
   "cell_type": "code",
   "execution_count": 21,
   "metadata": {
    "collapsed": false
   },
   "outputs": [
    {
     "data": {
      "image/png": "[encoded data removed]",
      "text/plain": [
       "<matplotlib.figure.Figure at 0x10e652ad0>"
      ]
     },
     "metadata": {},
     "output_type": "display_data"
    }
   ],
   "source": [
    "_= sns.residplot(df['heart_rate'],temp,lowess=True)"
   ]
  },
  {
   "cell_type": "markdown",
   "metadata": {},
   "source": [
    "The residuals are randomly distributed as opposed to having a pattern which indicates the samples are independent of each other."
   ]
  },
  {
   "cell_type": "code",
   "execution_count": 55,
   "metadata": {
    "collapsed": false
   },
   "outputs": [
    {
     "name": "stdout",
     "output_type": "stream",
     "text": [
      " The sample size is 130 and is considered large enough for CLT to apply\n"
     ]
    }
   ],
   "source": [
    "if len(df) > 30:\n",
    "    print\" The sample size is \"+str(len(df))+\" and is considered large enough for CLT to apply\""
   ]
  },
  {
   "cell_type": "markdown",
   "metadata": {},
   "source": [
    "## Is the population mean really 98.6?\n",
    "\n",
    "This can be answered via a two tailed z-test. \n",
    "\n",
    "The t- test is the correct method v/s the z-test given we don't have the population std deviation\n",
    "\n",
    "HO: Null Hypothesis: Poplation mean for Human Temperature = 98.6\n",
    "\n",
    "HA: Alternate Hypothesis: Population mean for Human Temperature != 98.6\n"
   ]
  },
  {
   "cell_type": "code",
   "execution_count": 8,
   "metadata": {
    "collapsed": false
   },
   "outputs": [
    {
     "name": "stdout",
     "output_type": "stream",
     "text": [
      "Null Hypothesis Rejected: Population mean for Human Temperature != 98.6\n"
     ]
    }
   ],
   "source": [
    "import scipy.stats as st\n",
    "\n",
    "h_o = \"Poplation mean for Human Temperature = 98.6\"\n",
    "h_a = \"Population mean for Human Temperature != 98.6\"\n",
    "#two tailed t test\n",
    "t_test = st.ttest_1samp(temp,98.6)\n",
    "\n",
    "if t_test[1] < .05:\n",
    "    print \"Null Hypothesis Rejected: \"+h_a\n",
    "else:\n",
    "    print \"Null Hypothesis Accepted: \"+h_o"
   ]
  },
  {
   "cell_type": "markdown",
   "metadata": {},
   "source": [
    "Executing z test assuming sample std dev = population std dev"
   ]
  },
  {
   "cell_type": "code",
   "execution_count": 9,
   "metadata": {
    "collapsed": false
   },
   "outputs": [
    {
     "name": "stdout",
     "output_type": "stream",
     "text": [
      "Null Hypothesis Rejected: Population mean for Human Temperature != 98.6\n"
     ]
    }
   ],
   "source": [
    "# z statistic\n",
    "z_test= (mu-98.6)/(sigma/np.sqrt(len(df)))\n",
    "z_critical_upper = st.norm.ppf(.975)\n",
    "z_critical_lower = st.norm.ppf(.025)\n",
    "\n",
    "if z_test >= z_critical_upper or z_test < z_critical_lower:\n",
    "    print \"Null Hypothesis Rejected: \"+h_a\n",
    "else:\n",
    "    print \"Null Hypothesis Accepted: \"+h_o"
   ]
  },
  {
   "cell_type": "markdown",
   "metadata": {},
   "source": [
    "The results for both tests are the same (although the t-test is the correct way). The null hypothesis is rejected."
   ]
  },
  {
   "cell_type": "markdown",
   "metadata": {},
   "source": [
    "## Confidence Intervals\n",
    "\n",
    "Confidence intervals will be derived both using hacker statistics and following the math forumulas. These are described below"
   ]
  },
  {
   "cell_type": "code",
   "execution_count": 10,
   "metadata": {
    "collapsed": false
   },
   "outputs": [
    {
     "name": "stdout",
     "output_type": "stream",
     "text": [
      "95% confidence interval = [ 98.12536538  98.37461538] Farenheit\n"
     ]
    }
   ],
   "source": [
    "# Hacker Statistics\n",
    "\n",
    "def bootstrap_replicate_1d(data, func):\n",
    "    return func(np.random.choice(data, size=len(data)))\n",
    "\n",
    "def draw_bs_reps(data, func, size=1):\n",
    "    \"\"\"Draw bootstrap replicates.\"\"\"\n",
    "\n",
    "    # Initialize array of replicates: bs_replicates\n",
    "    bs_replicates = np.empty(size)\n",
    "\n",
    "    # Generate replicates\n",
    "    for i in range(size):\n",
    "        bs_replicates[i] = bootstrap_replicate_1d(data,func)\n",
    "\n",
    "    return bs_replicates\n",
    "\n",
    "bs_replicates = draw_bs_reps(temp,np.mean,10000)\n",
    "\n",
    "conf_int = np.percentile(bs_replicates,[2.5,97.5])\n",
    "\n",
    "print'95% confidence interval =',conf_int, 'Farenheit'"
   ]
  },
  {
   "cell_type": "code",
   "execution_count": 11,
   "metadata": {
    "collapsed": false
   },
   "outputs": [
    {
     "name": "stdout",
     "output_type": "stream",
     "text": [
      "95% confidence interval = [98.12249318821641, 98.375968350245145] Farenheit\n"
     ]
    }
   ],
   "source": [
    "t_critical_upper = st.t.ppf(.975,len(df)-1)\n",
    "t_critical_lower = st.t.ppf(.025,len(df)-1)\n",
    "\n",
    "se = sigma/np.sqrt(len(df))\n",
    "conf_int_2 = [mu+t_critical_lower*se,mu+t_critical_upper*se]\n",
    "\n",
    "print'95% confidence interval =',conf_int_2, 'Farenheit'"
   ]
  },
  {
   "cell_type": "markdown",
   "metadata": {},
   "source": [
    "Both the \"Hacker Statistics\" and the \"Math\" way lead to the same answer"
   ]
  },
  {
   "cell_type": "code",
   "execution_count": 47,
   "metadata": {
    "collapsed": false
   },
   "outputs": [
    {
     "name": "stdout",
     "output_type": "stream",
     "text": [
      "99.9% confidence interval = [98.033517143547087, 98.464944394914468] Farenheit\n"
     ]
    }
   ],
   "source": [
    "t_critical_upper = st.t.ppf(.9995,len(df)-1)\n",
    "t_critical_lower = st.t.ppf(.0005,len(df)-1)\n",
    "\n",
    "se = sigma/np.sqrt(len(df))\n",
    "conf_int_2 = [mu+t_critical_lower*se,mu+t_critical_upper*se]\n",
    "\n",
    "print'99.9% confidence interval =',conf_int_2, 'Farenheit'\n"
   ]
  },
  {
   "cell_type": "markdown",
   "metadata": {},
   "source": [
    "Any temperature below 98.03 or above 98.46 can be considered 'abnormal'"
   ]
  },
  {
   "cell_type": "markdown",
   "metadata": {},
   "source": [
    "## Comparing Male and Female Data"
   ]
  },
  {
   "cell_type": "code",
   "execution_count": 22,
   "metadata": {
    "collapsed": false
   },
   "outputs": [
    {
     "data": {
      "image/png": "[encoded data removed]",
      "text/plain": [
       "<matplotlib.figure.Figure at 0x10e661790>"
      ]
     },
     "metadata": {},
     "output_type": "display_data"
    }
   ],
   "source": [
    "_=sns.swarmplot(x='gender',y='temperature',data=df)"
   ]
  },
  {
   "cell_type": "markdown",
   "metadata": {},
   "source": [
    "Looks like females have a bit more of concentrated distribution as opposed to males and that males may have a lower mean temperature\n",
    "\n",
    "A two sample t-test will reveal if the differences are significant"
   ]
  },
  {
   "cell_type": "code",
   "execution_count": 34,
   "metadata": {
    "collapsed": false
   },
   "outputs": [
    {
     "name": "stdout",
     "output_type": "stream",
     "text": [
      "Average Male Body Temperature: 98.1046153846\n",
      "Average Female Body Temperature:98.3938461538\n",
      "Null Hypothesis Rejected: Average Male Body Temperature!=Average Female Body Temperature\n"
     ]
    }
   ],
   "source": [
    "females=df['temperature'][df['gender']=='F']\n",
    "males=df['temperature'][df['gender']=='M']\n",
    "\n",
    "print 'Average Male Body Temperature: '+str(np.mean(males))\n",
    "print 'Average Female Body Temperature:'+str(np.mean(females))\n",
    "\n",
    "st.ttest_ind(males,females)\n",
    "\n",
    "h_o = \"Average Male Body Temperature=Average Female Body Temperature\"\n",
    "h_a = \"Average Male Body Temperature!=Average Female Body Temperature\"\n",
    "#two tailed t test\n",
    "t_test = st.ttest_1samp(temp,98.6)\n",
    "\n",
    "if t_test[1] < .05:\n",
    "    print \"Null Hypothesis Rejected: \"+h_a\n",
    "else:\n",
    "    print \"Null Hypothesis Accepted: \"+h_o"
   ]
  },
  {
   "cell_type": "markdown",
   "metadata": {},
   "source": [
    "## Conclusion\n",
    "Human body temperatures are normally distributed. \n",
    "\n",
    "However the population mean is between 98.12 and 98.38 with 95% confidence as opposed to 98.6.\n",
    "\n",
    "Any temperature below 98.03 or above 98.46 can be considered 'abnormal' with a 99.9% CI\n",
    "\n",
    "Male and Female body temperatures have a different mean with female mean body temerature is typically higher."
   ]
  }
 ],
 "metadata": {
  "kernelspec": {
   "display_name": "Python 2",
   "language": "python",
   "name": "python2"
  }
 },
 "nbformat": 4,
 "nbformat_minor": 0
}
